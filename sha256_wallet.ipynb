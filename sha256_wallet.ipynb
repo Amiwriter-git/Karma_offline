{
 "cells": [
  {
   "cell_type": "code",
   "execution_count": 1,
   "metadata": {},
   "outputs": [],
   "source": [
    "from bitcoin import *"
   ]
  },
  {
   "cell_type": "code",
   "execution_count": 11,
   "metadata": {},
   "outputs": [],
   "source": [
    "def create_addr():\n",
    "\tprivate_key = random_key()\n",
    "\tpublic_key = privtopub(private_key)\n",
    "\taddress = publictoaddress(public_key)\n",
    "\treturn address, private_key"
   ]
  },
  {
   "cell_type": "code",
   "execution_count": 12,
   "metadata": {},
   "outputs": [],
   "source": [
    "address,private_key = create_addr()  #Такие монеты, как Биткоин, Crown"
   ]
  },
  {
   "cell_type": "code",
   "execution_count": 13,
   "metadata": {},
   "outputs": [
    {
     "name": "stdout",
     "output_type": "stream",
     "text": [
      "address:       1ENhT59TQmBDwPmeUcaWhC75MCqcWcS1dL\n"
     ]
    }
   ],
   "source": [
    "print('address:       '+address)"
   ]
  },
  {
   "cell_type": "code",
   "execution_count": 14,
   "metadata": {},
   "outputs": [
    {
     "name": "stdout",
     "output_type": "stream",
     "text": [
      "private key:     3d3f24154450b4ca68a0288bfcef02788a1fb15fec2e41240a53245fc7755628\n"
     ]
    }
   ],
   "source": [
    "print('private key:   '+private_key)   "
   ]
  },
  {
   "cell_type": "code",
   "execution_count": null,
   "metadata": {},
   "outputs": [],
   "source": []
  }
 ],
 "metadata": {
  "kernelspec": {
   "display_name": "Python 3",
   "language": "python",
   "name": "python3"
  },
  "language_info": {
   "codemirror_mode": {
    "name": "ipython",
    "version": 3
   },
   "file_extension": ".py",
   "mimetype": "text/x-python",
   "name": "python",
   "nbconvert_exporter": "python",
   "pygments_lexer": "ipython3",
   "version": "3.5.2"
  }
 },
 "nbformat": 4,
 "nbformat_minor": 2
}
