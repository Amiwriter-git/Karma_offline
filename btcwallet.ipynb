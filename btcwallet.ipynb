{
 "cells": [
  {
   "cell_type": "code",
   "execution_count": 25,
   "metadata": {},
   "outputs": [],
   "source": [
    "import base64\n",
    "import ecdsa"
   ]
  },
  {
   "cell_type": "code",
   "execution_count": 26,
   "metadata": {},
   "outputs": [],
   "source": [
    "secret_key = ecdsa.SigningKey.generate(curve=ecdsa.SECP256k1) # private ключ"
   ]
  },
  {
   "cell_type": "code",
   "execution_count": 27,
   "metadata": {},
   "outputs": [],
   "source": [
    "private_key = secret_key.to_string().hex() # конвертим private ключ в hex\n",
    "vk = secret_key.get_verifying_key() # public ключ"
   ]
  },
  {
   "cell_type": "code",
   "execution_count": 28,
   "metadata": {},
   "outputs": [
    {
     "name": "stdout",
     "output_type": "stream",
     "text": [
      "Private key: 14bf5ef20c223d40135c9babde8563a2785f61aa6e6c06cbaba3e5e27641e093\n",
      "Wallet address / Public key: 0438ae7d118cb009ec75d4a87a9d9534347780b89e06553469b345127691ce0ff9b8bb3d5da7c27623521700f2fa776ad6644da9188f5fcb68a31fa88446637000\n"
     ]
    }
   ],
   "source": [
    "public_key = vk.to_string().hex()\n",
    "print(\"Private key: {0}\".format(private_key))\n",
    "# получаем public ключ, имеющий оригинальную 130 значную интерпретацию \n",
    "address='04'+public_key\n",
    "print(\"Wallet address / Public key: {0}\".format(address))"
   ]
  },
  {
   "cell_type": "code",
   "execution_count": null,
   "metadata": {},
   "outputs": [],
   "source": []
  }
 ],
 "metadata": {
  "kernelspec": {
   "display_name": "Python 3",
   "language": "python",
   "name": "python3"
  }
 },
 "nbformat": 4,
 "nbformat_minor": 2
}
