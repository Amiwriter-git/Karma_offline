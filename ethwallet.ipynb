{
 "cells": [
  {
   "cell_type": "code",
   "execution_count": 49,
   "metadata": {},
   "outputs": [],
   "source": [
    "from ecdsa import SigningKey, SECP256k1\n",
    "import sha3"
   ]
  },
  {
   "cell_type": "code",
   "execution_count": 50,
   "metadata": {},
   "outputs": [],
   "source": [
    "keccak = sha3.keccak_256()"
   ]
  },
  {
   "cell_type": "code",
   "execution_count": 51,
   "metadata": {},
   "outputs": [],
   "source": [
    "priv = SigningKey.generate(curve=SECP256k1)\n",
    "pub = priv.get_verifying_key().to_string()"
   ]
  },
  {
   "cell_type": "code",
   "execution_count": 52,
   "metadata": {},
   "outputs": [],
   "source": [
    "keccak.update(pub)\n",
    "address = keccak.hexdigest()[24:]"
   ]
  },
  {
   "cell_type": "code",
   "execution_count": 54,
   "metadata": {},
   "outputs": [
    {
     "name": "stdout",
     "output_type": "stream",
     "text": [
      "Private key: e18e6938764105c5a164163242ccd66f9e05203639c2a7b8e43b8895a59d3b67\n",
      "Public key:  0ba50a29c4f78a0f442fbccda9c7e8f997fc880c39a88fa33fbc26be7f7031ebaec4805826936fb8a0c0a6df9247750df5cbcb4c4ed761a189094e470958262c\n",
      "Address:     0x27f497e453b9d014e0f8604cf99a1bce40b67a47\n"
     ]
    }
   ],
   "source": [
    "print(\"Private key:\", priv.to_string().hex())\n",
    "print(\"Public key: \", pub.hex())\n",
    "print(\"Address:     0x\" + address)"
   ]
  },
  {
   "cell_type": "code",
   "execution_count": null,
   "metadata": {},
   "outputs": [],
   "source": []
  }
 ],
 "metadata": {
  "kernelspec": {
   "display_name": "Python 3",
   "language": "python",
   "name": "python3"
  },
  "language_info": {
   "codemirror_mode": {
    "name": "ipython",
    "version": 3
   },
   "file_extension": ".py",
   "mimetype": "text/x-python",
   "name": "python",
   "nbconvert_exporter": "python",
   "pygments_lexer": "ipython3",
   "version": "3.5.2"
  }
 },
 "nbformat": 4,
 "nbformat_minor": 2
}
