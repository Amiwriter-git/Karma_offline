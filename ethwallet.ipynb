{
 "cells": [
  {
   "cell_type": "code",
   "execution_count": 11,
   "metadata": {},
   "outputs": [],
   "source": [
    "from ecdsa import SigningKey, SECP256k1\n",
    "import sha3"
   ]
  },
  {
   "cell_type": "code",
   "execution_count": 12,
   "metadata": {},
   "outputs": [],
   "source": [
    "keccak = sha3.keccak_256()"
   ]
  },
  {
   "cell_type": "code",
   "execution_count": 13,
   "metadata": {},
   "outputs": [],
   "source": [
    "priv = SigningKey.generate(curve=SECP256k1)\n",
    "pub = priv.get_verifying_key().to_string()"
   ]
  },
  {
   "cell_type": "code",
   "execution_count": 14,
   "metadata": {},
   "outputs": [],
   "source": [
    "keccak.update(pub)\n",
    "address = keccak.hexdigest()[24:]"
   ]
  },
  {
   "cell_type": "code",
   "execution_count": 15,
   "metadata": {},
   "outputs": [
    {
     "name": "stdout",
     "output_type": "stream",
     "text": [
      "Private key: 228eb2f457a33ac13e9440452b5a9cd00702cdd79a390e27a749d34933244d28\n",
      "Public key:  430f1ae14200077a21e08fa366ae1e3a20f49b3d874fdafdd78e5204f9640d99c7fd7ed70271bc0b4cc0b83c010847d76d397a5e4b17f999a3208f03ab0ce5c0\n",
      "Address:     0xa6844550db974007bc2fa6eb545a658612aa6ae1\n"
     ]
    }
   ],
   "source": [
    "print(\"Private key:\", priv.to_string().hex())\n",
    "print(\"Public key: \", pub.hex())\n",
    "print(\"Address:     0x\" + address)"
   ]
  },
  {
   "cell_type": "code",
   "execution_count": null,
   "metadata": {},
   "outputs": [],
   "source": []
  }
 ],
 "metadata": {
  "kernelspec": {
   "display_name": "Python 3",
   "language": "python",
   "name": "python3"
  },
  "language_info": {
   "codemirror_mode": {
    "name": "ipython",
    "version": 3
   },
   "file_extension": ".py",
   "mimetype": "text/x-python",
   "name": "python",
   "nbconvert_exporter": "python",
   "pygments_lexer": "ipython3",
   "version": "3.5.2"
  }
 },
 "nbformat": 4,
 "nbformat_minor": 2
}
