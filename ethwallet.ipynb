{
 "cells": [
  {
   "cell_type": "code",
   "execution_count": 1,
   "metadata": {},
   "outputs": [],
   "source": [
    "from ecdsa import SigningKey, SECP256k1\n",
    "import sha3"
   ]
  },
  {
   "cell_type": "code",
   "execution_count": 2,
   "metadata": {},
   "outputs": [],
   "source": [
    "keccak = sha3.keccak_256()"
   ]
  },
  {
   "cell_type": "code",
   "execution_count": 3,
   "metadata": {},
   "outputs": [],
   "source": [
    "priv = SigningKey.generate(curve=SECP256k1)\n",
    "pub = priv.get_verifying_key().to_string()"
   ]
  },
  {
   "cell_type": "code",
   "execution_count": 4,
   "metadata": {},
   "outputs": [],
   "source": [
    "keccak.update(pub)\n",
    "address = keccak.hexdigest()[24:]"
   ]
  },
  {
   "cell_type": "code",
   "execution_count": 5,
   "metadata": {},
   "outputs": [
    {
     "name": "stdout",
     "output_type": "stream",
     "text": [
      "Private key: 117cc0f95f48d25e3048a8a8e163bb9d9c93070a31b84ca2d849dbd28a5d0630\n",
      "Public key:  861c1202f3057efd9ada252020e5052f9b197d040747d1e93d4df56cfdf1b4dd6969889437ca93bb75b2d819a398d6bffa905deee486fd729abcb9145f2ef74d\n",
      "Address:     0x1d5d10b6fde92437c3d531c469cfc4e18d492654\n"
     ]
    }
   ],
   "source": [
    "print(\"Private key:\", priv.to_string().hex())\n",
    "print(\"Public key: \", pub.hex())\n",
    "print(\"Address:     0x\" + address)"
   ]
  },
  {
   "cell_type": "code",
   "execution_count": null,
   "metadata": {},
   "outputs": [],
   "source": []
  }
 ],
 "metadata": {
  "kernelspec": {
   "display_name": "Python 3",
   "language": "python",
   "name": "python3"
  },
  "language_info": {
   "codemirror_mode": {
    "name": "ipython",
    "version": 3
   },
   "file_extension": ".py",
   "mimetype": "text/x-python",
   "name": "python",
   "nbconvert_exporter": "python",
   "pygments_lexer": "ipython3",
   "version": "3.5.2"
  }
 },
 "nbformat": 4,
 "nbformat_minor": 2
}
